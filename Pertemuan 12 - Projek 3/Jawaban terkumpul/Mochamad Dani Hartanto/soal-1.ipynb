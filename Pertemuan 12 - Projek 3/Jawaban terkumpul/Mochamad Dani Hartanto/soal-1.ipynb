{
 "cells": [
  {
   "cell_type": "markdown",
   "metadata": {},
   "source": [
    "# unsupervised learning soal nomor 1\n",
    "## Nama: Mochamad Dani Hartanto\n",
    "## Nim: 170411100090\n",
    "## Kelas: DSI UTM"
   ]
  },
  {
   "cell_type": "code",
   "execution_count": 64,
   "metadata": {},
   "outputs": [],
   "source": [
    "import pandas as pd\n",
    "from pandas import read_csv\n",
    "import numpy as np\n",
    "import matplotlib.pyplot as plt\n",
    "\n",
    "from sklearn import preprocessing\n",
    "from sklearn.cluster import KMeans\n",
    "from sklearn.metrics import silhouette_samples, silhouette_score"
   ]
  },
  {
   "cell_type": "code",
   "execution_count": 65,
   "metadata": {},
   "outputs": [],
   "source": [
    "df = read_csv(\"../dataset.csv\",index_col=0)"
   ]
  },
  {
   "cell_type": "code",
   "execution_count": 66,
   "metadata": {},
   "outputs": [
    {
     "data": {
      "text/html": [
       "<div>\n",
       "<style scoped>\n",
       "    .dataframe tbody tr th:only-of-type {\n",
       "        vertical-align: middle;\n",
       "    }\n",
       "\n",
       "    .dataframe tbody tr th {\n",
       "        vertical-align: top;\n",
       "    }\n",
       "\n",
       "    .dataframe thead th {\n",
       "        text-align: right;\n",
       "    }\n",
       "</style>\n",
       "<table border=\"1\" class=\"dataframe\">\n",
       "  <thead>\n",
       "    <tr style=\"text-align: right;\">\n",
       "      <th></th>\n",
       "      <th>NUC</th>\n",
       "      <th>MIT</th>\n",
       "      <th>ME3</th>\n",
       "      <th>ME2</th>\n",
       "      <th>ME1</th>\n",
       "      <th>EXC</th>\n",
       "      <th>VAC</th>\n",
       "      <th>POX</th>\n",
       "    </tr>\n",
       "    <tr>\n",
       "      <th>CYT</th>\n",
       "      <th></th>\n",
       "      <th></th>\n",
       "      <th></th>\n",
       "      <th></th>\n",
       "      <th></th>\n",
       "      <th></th>\n",
       "      <th></th>\n",
       "      <th></th>\n",
       "    </tr>\n",
       "  </thead>\n",
       "  <tbody>\n",
       "    <tr>\n",
       "      <th>ADT1_YEAST</th>\n",
       "      <td>0.58</td>\n",
       "      <td>0.61</td>\n",
       "      <td>0.47</td>\n",
       "      <td>0.13</td>\n",
       "      <td>0.5</td>\n",
       "      <td>0.0</td>\n",
       "      <td>0.48</td>\n",
       "      <td>0.22</td>\n",
       "    </tr>\n",
       "    <tr>\n",
       "      <th>ADT2_YEAST</th>\n",
       "      <td>0.43</td>\n",
       "      <td>0.67</td>\n",
       "      <td>0.48</td>\n",
       "      <td>0.27</td>\n",
       "      <td>0.5</td>\n",
       "      <td>0.0</td>\n",
       "      <td>0.53</td>\n",
       "      <td>0.22</td>\n",
       "    </tr>\n",
       "    <tr>\n",
       "      <th>ADT3_YEAST</th>\n",
       "      <td>0.64</td>\n",
       "      <td>0.62</td>\n",
       "      <td>0.49</td>\n",
       "      <td>0.15</td>\n",
       "      <td>0.5</td>\n",
       "      <td>0.0</td>\n",
       "      <td>0.53</td>\n",
       "      <td>0.22</td>\n",
       "    </tr>\n",
       "    <tr>\n",
       "      <th>AAR2_YEAST</th>\n",
       "      <td>0.58</td>\n",
       "      <td>0.44</td>\n",
       "      <td>0.57</td>\n",
       "      <td>0.13</td>\n",
       "      <td>0.5</td>\n",
       "      <td>0.0</td>\n",
       "      <td>0.54</td>\n",
       "      <td>0.22</td>\n",
       "    </tr>\n",
       "    <tr>\n",
       "      <th>AATM_YEAST</th>\n",
       "      <td>0.42</td>\n",
       "      <td>0.44</td>\n",
       "      <td>0.48</td>\n",
       "      <td>0.54</td>\n",
       "      <td>0.5</td>\n",
       "      <td>0.0</td>\n",
       "      <td>0.48</td>\n",
       "      <td>0.22</td>\n",
       "    </tr>\n",
       "  </tbody>\n",
       "</table>\n",
       "</div>"
      ],
      "text/plain": [
       "             NUC   MIT   ME3   ME2  ME1  EXC   VAC   POX\n",
       "CYT                                                     \n",
       "ADT1_YEAST  0.58  0.61  0.47  0.13  0.5  0.0  0.48  0.22\n",
       "ADT2_YEAST  0.43  0.67  0.48  0.27  0.5  0.0  0.53  0.22\n",
       "ADT3_YEAST  0.64  0.62  0.49  0.15  0.5  0.0  0.53  0.22\n",
       "AAR2_YEAST  0.58  0.44  0.57  0.13  0.5  0.0  0.54  0.22\n",
       "AATM_YEAST  0.42  0.44  0.48  0.54  0.5  0.0  0.48  0.22"
      ]
     },
     "execution_count": 66,
     "metadata": {},
     "output_type": "execute_result"
    }
   ],
   "source": [
    "df.head()"
   ]
  },
  {
   "cell_type": "code",
   "execution_count": 67,
   "metadata": {},
   "outputs": [
    {
     "name": "stdout",
     "output_type": "stream",
     "text": [
      "<class 'pandas.core.frame.DataFrame'>\n",
      "Index: 1484 entries, ADT1_YEAST to G6PD_YEAST\n",
      "Data columns (total 8 columns):\n",
      " #   Column  Non-Null Count  Dtype  \n",
      "---  ------  --------------  -----  \n",
      " 0   NUC     1484 non-null   float64\n",
      " 1   MIT     1484 non-null   float64\n",
      " 2   ME3     1484 non-null   float64\n",
      " 3   ME2     1484 non-null   float64\n",
      " 4   ME1     1484 non-null   float64\n",
      " 5   EXC     1484 non-null   float64\n",
      " 6   VAC     1484 non-null   float64\n",
      " 7   POX     1484 non-null   float64\n",
      "dtypes: float64(8)\n",
      "memory usage: 104.3+ KB\n"
     ]
    }
   ],
   "source": [
    "df.info()"
   ]
  },
  {
   "cell_type": "code",
   "execution_count": 68,
   "metadata": {},
   "outputs": [
    {
     "data": {
      "text/plain": [
       "NUC    0\n",
       "MIT    0\n",
       "ME3    0\n",
       "ME2    0\n",
       "ME1    0\n",
       "EXC    0\n",
       "VAC    0\n",
       "POX    0\n",
       "dtype: int64"
      ]
     },
     "execution_count": 68,
     "metadata": {},
     "output_type": "execute_result"
    }
   ],
   "source": [
    "np.sum(df.isnull())"
   ]
  },
  {
   "cell_type": "markdown",
   "metadata": {},
   "source": [
    "data tidak ada yg null"
   ]
  },
  {
   "cell_type": "markdown",
   "metadata": {},
   "source": [
    "# melakukan praproses pada dataset"
   ]
  },
  {
   "cell_type": "code",
   "execution_count": 82,
   "metadata": {},
   "outputs": [
    {
     "data": {
      "text/plain": [
       "array([[ 5.28089888,  5.51724138,  3.29113924, ...,  6.57534247,\n",
       "         2.2       ,  4.44444444],\n",
       "       [ 3.59550562,  6.20689655,  3.41772152, ...,  7.26027397,\n",
       "         2.2       , 10.        ],\n",
       "       [ 5.95505618,  5.63218391,  3.5443038 , ...,  7.26027397,\n",
       "         2.2       ,  4.44444444],\n",
       "       ...,\n",
       "       [ 6.29213483,  5.05747126,  1.89873418, ...,  7.67123288,\n",
       "         2.2       ,  4.44444444],\n",
       "       [ 3.59550562,  3.10344828,  4.93670886, ...,  7.26027397,\n",
       "         3.9       ,  3.33333333],\n",
       "       [ 6.06741573,  4.71264368,  4.17721519, ...,  7.26027397,\n",
       "         2.2       ,  4.44444444]])"
      ]
     },
     "execution_count": 82,
     "metadata": {},
     "output_type": "execute_result"
    }
   ],
   "source": [
    "minmax_form = preprocessing.MinMaxScaler(feature_range = (0,10))\n",
    "normalized_data = minmax_form.fit_transform(df)\n",
    "\n",
    "normalized_data"
   ]
  },
  {
   "cell_type": "code",
   "execution_count": 70,
   "metadata": {},
   "outputs": [],
   "source": [
    "#dataLatih dengan algoritma K-means\n",
    "#belumDiNormalisasi\n",
    "\n",
    "sum_of_squared_distances = {}\n",
    "range_n_clusters = [1, 2, 3, 4, 5, 6, 7, 8, 9, 10]\n",
    "\n",
    "for n_cluster in range_n_clusters:\n",
    "    model = KMeans(n_clusters = n_cluster,\n",
    "                  init = 'random',\n",
    "                  n_init = 10,\n",
    "                  random_state = 0)\n",
    "    \n",
    "    # proses training\n",
    "    model.fit(df)\n",
    "    \n",
    "    sum_of_squared_distances[n_cluster] = model.inertia_"
   ]
  },
  {
   "cell_type": "code",
   "execution_count": 71,
   "metadata": {},
   "outputs": [
    {
     "data": {
      "text/plain": [
       "{1: 123.4778340296498,\n",
       " 2: 95.83129556833934,\n",
       " 3: 80.64452683333252,\n",
       " 4: 71.31498742232736,\n",
       " 5: 64.14364255389573,\n",
       " 6: 60.40054165506869,\n",
       " 7: 57.91587542357355,\n",
       " 8: 50.02452490011954,\n",
       " 9: 47.894355666344545,\n",
       " 10: 45.789765097151374}"
      ]
     },
     "execution_count": 71,
     "metadata": {},
     "output_type": "execute_result"
    }
   ],
   "source": [
    "sum_of_squared_distances"
   ]
  },
  {
   "cell_type": "code",
   "execution_count": 83,
   "metadata": {},
   "outputs": [
    {
     "data": {
      "image/png": "[encoded data removed]",
      "text/plain": [
       "<Figure size 576x576 with 1 Axes>"
      ]
     },
     "metadata": {
      "needs_background": "light"
     },
     "output_type": "display_data"
    }
   ],
   "source": [
    "#menggunakan chart elbow\n",
    "plt.figure(figsize = (8,8))\n",
    "\n",
    "plt.title(\"Elbow Method for Optimal K\")\n",
    "plt.xlabel(\"Number of k Cluster\")\n",
    "plt.ylabel(\"Sum of Within-Cluster Variance\")\n",
    "plt.xticks(range_n_clusters)\n",
    "\n",
    "plt.plot(range_n_clusters, \n",
    "        sum_of_squared_distances.values(),\n",
    "        '-o', color = \"Blue\")\n",
    "\n",
    "plt.show()"
   ]
  },
  {
   "cell_type": "code",
   "execution_count": 73,
   "metadata": {},
   "outputs": [],
   "source": [
    "#dataSetelahDiNormalisasi\n",
    "\n",
    "sum_of_squared_distances = {}\n",
    "range_n_clusters = [1, 2, 3, 4, 5, 6, 7, 8, 9, 10]\n",
    "\n",
    "for n_cluster in range_n_clusters:\n",
    "    model = KMeans(n_clusters = n_cluster,\n",
    "                  init = 'random',\n",
    "                  n_init = 10,\n",
    "                  random_state = 0)\n",
    "    \n",
    "    # proses training\n",
    "    model.fit(normalized_data)\n",
    "    \n",
    "    sum_of_squared_distances[n_cluster] = model.inertia_"
   ]
  },
  {
   "cell_type": "code",
   "execution_count": 74,
   "metadata": {},
   "outputs": [
    {
     "data": {
      "text/plain": [
       "{1: 163.41895538092666,\n",
       " 2: 129.61676654256522,\n",
       " 3: 113.15954017154785,\n",
       " 4: 102.4540973872218,\n",
       " 5: 89.69693918310938,\n",
       " 6: 83.08009461317853,\n",
       " 7: 75.6806723631883,\n",
       " 8: 64.07604764413192,\n",
       " 9: 61.14615179706965,\n",
       " 10: 58.355531530539054}"
      ]
     },
     "execution_count": 74,
     "metadata": {},
     "output_type": "execute_result"
    }
   ],
   "source": [
    "sum_of_squared_distances"
   ]
  },
  {
   "cell_type": "code",
   "execution_count": 75,
   "metadata": {},
   "outputs": [
    {
     "data": {
      "image/png": "[encoded data removed]",
      "text/plain": [
       "<Figure size 576x432 with 1 Axes>"
      ]
     },
     "metadata": {
      "needs_background": "light"
     },
     "output_type": "display_data"
    }
   ],
   "source": [
    "#visualkan chart dengan elbow lagi\n",
    "plt.figure(figsize = (8,6))\n",
    "\n",
    "plt.title(\"Elbow Method for Optimal K\")\n",
    "plt.xlabel(\"Number of k Cluster\")\n",
    "plt.ylabel(\"Sum of Within-Cluster Variance\")\n",
    "plt.xticks(range_n_clusters)\n",
    "\n",
    "plt.plot(range_n_clusters, \n",
    "        sum_of_squared_distances.values(),\n",
    "        '-o', color = \"Blue\")\n",
    "\n",
    "plt.show()"
   ]
  },
  {
   "cell_type": "markdown",
   "metadata": {},
   "source": [
    "# selanjutnya di evaluasi dengan silhouette score"
   ]
  },
  {
   "cell_type": "code",
   "execution_count": 86,
   "metadata": {},
   "outputs": [],
   "source": [
    "#data sudah dinormalisasi\n",
    "sil = {}\n",
    "range_n_clusters = [2, 3, 4, 5, 6, 7, 8, 9, 10]\n",
    "\n",
    "for n_cluster in range_n_clusters:\n",
    "    clusterer = KMeans(n_clusters = n_cluster,\n",
    "                      init = 'random',\n",
    "                      n_init = 10,\n",
    "                      random_state = 0)\n",
    "    \n",
    "    preds = clusterer.fit_predict(normalized_data)\n",
    "    score = silhouette_score(df, preds, metric = \"euclidean\")\n",
    "    \n",
    "    sil[n_cluster] = score"
   ]
  },
  {
   "cell_type": "code",
   "execution_count": 87,
   "metadata": {},
   "outputs": [
    {
     "name": "stdout",
     "output_type": "stream",
     "text": [
      "2 : 0.639897221203431\n",
      "3 : 0.4084559896262268\n",
      "4 : 0.44429572790923166\n",
      "5 : 0.3293731452148195\n",
      "6 : 0.6094579550459571\n",
      "7 : 0.6316261254136981\n",
      "8 : 0.7270639878811962\n",
      "9 : 0.7514150688192792\n",
      "10 : 0.6540214570339792\n"
     ]
    }
   ],
   "source": [
    "for n_cluster, sil_score in sil.items():\n",
    "    print(n_cluster, \":\", sil_score)"
   ]
  },
  {
   "cell_type": "code",
   "execution_count": 88,
   "metadata": {},
   "outputs": [
    {
     "data": {
      "image/png": "[encoded data removed]",
      "text/plain": [
       "<Figure size 576x432 with 1 Axes>"
      ]
     },
     "metadata": {
      "needs_background": "light"
     },
     "output_type": "display_data"
    }
   ],
   "source": [
    "#visualkan data lagi\n",
    "plt.figure(figsize = (8,6))\n",
    "\n",
    "plt.title(\"Choosing Optimal Cluster\")\n",
    "plt.xlabel(\"Number of k Cluster\")\n",
    "plt.ylabel(\"Silhouette\")\n",
    "plt.xticks(range_n_clusters)\n",
    "\n",
    "plt.plot(range_n_clusters, \n",
    "        sil.values(),\n",
    "        '-o', color = \"Blue\")\n",
    "\n",
    "plt.show()"
   ]
  },
  {
   "cell_type": "code",
   "execution_count": 89,
   "metadata": {},
   "outputs": [],
   "source": [
    "#data yang belom dinormalisasi\n",
    "sil = {}\n",
    "range_n_clusters = [2, 3, 4, 5, 6, 7, 8, 9, 10]\n",
    "\n",
    "for n_cluster in range_n_clusters:\n",
    "    clusterer = KMeans(n_clusters = n_cluster,\n",
    "                      init = 'random',\n",
    "                      n_init = 10,\n",
    "                      random_state = 0)\n",
    "    \n",
    "    preds = clusterer.fit_predict(df)\n",
    "    score = silhouette_score(df, preds, metric = \"euclidean\")\n",
    "    \n",
    "    sil[n_cluster] = score"
   ]
  },
  {
   "cell_type": "code",
   "execution_count": 90,
   "metadata": {},
   "outputs": [
    {
     "name": "stdout",
     "output_type": "stream",
     "text": [
      "2 : 0.639897221203431\n",
      "3 : 0.6757314143017931\n",
      "4 : 0.6580173674914382\n",
      "5 : 0.6669004545176055\n",
      "6 : 0.6449251099951853\n",
      "7 : 0.703835585579227\n",
      "8 : 0.7188472042710328\n",
      "9 : 0.6467584014631965\n",
      "10 : 0.6255727628787432\n"
     ]
    }
   ],
   "source": [
    "for n_cluster, sil_score in sil.items():\n",
    "    print(n_cluster, \":\", sil_score)"
   ]
  },
  {
   "cell_type": "code",
   "execution_count": 91,
   "metadata": {},
   "outputs": [
    {
     "data": {
      "image/png": "[encoded data removed]",
      "text/plain": [
       "<Figure size 576x432 with 1 Axes>"
      ]
     },
     "metadata": {
      "needs_background": "light"
     },
     "output_type": "display_data"
    }
   ],
   "source": [
    "plt.figure(figsize = (8,6))\n",
    "\n",
    "plt.title(\"Choosing Optimal Cluster\")\n",
    "plt.xlabel(\"Number of k Cluster\")\n",
    "plt.ylabel(\"Silhouette\")\n",
    "plt.xticks(range_n_clusters)\n",
    "\n",
    "plt.plot(range_n_clusters, \n",
    "        sil.values(),\n",
    "        '-o', color = \"Blue\")\n",
    "\n",
    "plt.show()"
   ]
  },
  {
   "cell_type": "markdown",
   "metadata": {},
   "source": [
    "# tahap clustering setelah data melewati praproses"
   ]
  },
  {
   "cell_type": "code",
   "execution_count": 98,
   "metadata": {},
   "outputs": [],
   "source": [
    "kmins = KMeans(n_clusters = 5, \n",
    "              init = 'random',\n",
    "              n_init = 10,\n",
    "              random_state = 0)\n",
    "\n",
    "kmins.fit(df)\n",
    "y_kmins = kmins.predict(df)"
   ]
  },
  {
   "cell_type": "code",
   "execution_count": 99,
   "metadata": {},
   "outputs": [
    {
     "data": {
      "text/html": [
       "<div>\n",
       "<style scoped>\n",
       "    .dataframe tbody tr th:only-of-type {\n",
       "        vertical-align: middle;\n",
       "    }\n",
       "\n",
       "    .dataframe tbody tr th {\n",
       "        vertical-align: top;\n",
       "    }\n",
       "\n",
       "    .dataframe thead th {\n",
       "        text-align: right;\n",
       "    }\n",
       "</style>\n",
       "<table border=\"1\" class=\"dataframe\">\n",
       "  <thead>\n",
       "    <tr style=\"text-align: right;\">\n",
       "      <th></th>\n",
       "      <th>cluster</th>\n",
       "    </tr>\n",
       "  </thead>\n",
       "  <tbody>\n",
       "    <tr>\n",
       "      <th>0</th>\n",
       "      <td>4</td>\n",
       "    </tr>\n",
       "    <tr>\n",
       "      <th>1</th>\n",
       "      <td>4</td>\n",
       "    </tr>\n",
       "    <tr>\n",
       "      <th>2</th>\n",
       "      <td>4</td>\n",
       "    </tr>\n",
       "    <tr>\n",
       "      <th>3</th>\n",
       "      <td>3</td>\n",
       "    </tr>\n",
       "    <tr>\n",
       "      <th>4</th>\n",
       "      <td>1</td>\n",
       "    </tr>\n",
       "    <tr>\n",
       "      <th>...</th>\n",
       "      <td>...</td>\n",
       "    </tr>\n",
       "    <tr>\n",
       "      <th>1479</th>\n",
       "      <td>2</td>\n",
       "    </tr>\n",
       "    <tr>\n",
       "      <th>1480</th>\n",
       "      <td>1</td>\n",
       "    </tr>\n",
       "    <tr>\n",
       "      <th>1481</th>\n",
       "      <td>4</td>\n",
       "    </tr>\n",
       "    <tr>\n",
       "      <th>1482</th>\n",
       "      <td>0</td>\n",
       "    </tr>\n",
       "    <tr>\n",
       "      <th>1483</th>\n",
       "      <td>4</td>\n",
       "    </tr>\n",
       "  </tbody>\n",
       "</table>\n",
       "<p>1484 rows × 1 columns</p>\n",
       "</div>"
      ],
      "text/plain": [
       "      cluster\n",
       "0           4\n",
       "1           4\n",
       "2           4\n",
       "3           3\n",
       "4           1\n",
       "...       ...\n",
       "1479        2\n",
       "1480        1\n",
       "1481        4\n",
       "1482        0\n",
       "1483        4\n",
       "\n",
       "[1484 rows x 1 columns]"
      ]
     },
     "execution_count": 99,
     "metadata": {},
     "output_type": "execute_result"
    }
   ],
   "source": [
    "kmins_df = pd.DataFrame(y_kmins, columns = ['cluster'])\n",
    "kmins_df"
   ]
  },
  {
   "cell_type": "code",
   "execution_count": 100,
   "metadata": {},
   "outputs": [
    {
     "data": {
      "text/html": [
       "<div>\n",
       "<style scoped>\n",
       "    .dataframe tbody tr th:only-of-type {\n",
       "        vertical-align: middle;\n",
       "    }\n",
       "\n",
       "    .dataframe tbody tr th {\n",
       "        vertical-align: top;\n",
       "    }\n",
       "\n",
       "    .dataframe thead th {\n",
       "        text-align: right;\n",
       "    }\n",
       "</style>\n",
       "<table border=\"1\" class=\"dataframe\">\n",
       "  <thead>\n",
       "    <tr style=\"text-align: right;\">\n",
       "      <th></th>\n",
       "      <th>NUC</th>\n",
       "      <th>MIT</th>\n",
       "      <th>ME3</th>\n",
       "      <th>ME2</th>\n",
       "      <th>ME1</th>\n",
       "      <th>EXC</th>\n",
       "      <th>VAC</th>\n",
       "      <th>POX</th>\n",
       "      <th>segmen</th>\n",
       "    </tr>\n",
       "    <tr>\n",
       "      <th>CYT</th>\n",
       "      <th></th>\n",
       "      <th></th>\n",
       "      <th></th>\n",
       "      <th></th>\n",
       "      <th></th>\n",
       "      <th></th>\n",
       "      <th></th>\n",
       "      <th></th>\n",
       "      <th></th>\n",
       "    </tr>\n",
       "  </thead>\n",
       "  <tbody>\n",
       "    <tr>\n",
       "      <th>ADT1_YEAST</th>\n",
       "      <td>0.58</td>\n",
       "      <td>0.61</td>\n",
       "      <td>0.47</td>\n",
       "      <td>0.13</td>\n",
       "      <td>0.5</td>\n",
       "      <td>0.0</td>\n",
       "      <td>0.48</td>\n",
       "      <td>0.22</td>\n",
       "      <td>4</td>\n",
       "    </tr>\n",
       "    <tr>\n",
       "      <th>ADT2_YEAST</th>\n",
       "      <td>0.43</td>\n",
       "      <td>0.67</td>\n",
       "      <td>0.48</td>\n",
       "      <td>0.27</td>\n",
       "      <td>0.5</td>\n",
       "      <td>0.0</td>\n",
       "      <td>0.53</td>\n",
       "      <td>0.22</td>\n",
       "      <td>4</td>\n",
       "    </tr>\n",
       "    <tr>\n",
       "      <th>ADT3_YEAST</th>\n",
       "      <td>0.64</td>\n",
       "      <td>0.62</td>\n",
       "      <td>0.49</td>\n",
       "      <td>0.15</td>\n",
       "      <td>0.5</td>\n",
       "      <td>0.0</td>\n",
       "      <td>0.53</td>\n",
       "      <td>0.22</td>\n",
       "      <td>4</td>\n",
       "    </tr>\n",
       "    <tr>\n",
       "      <th>AAR2_YEAST</th>\n",
       "      <td>0.58</td>\n",
       "      <td>0.44</td>\n",
       "      <td>0.57</td>\n",
       "      <td>0.13</td>\n",
       "      <td>0.5</td>\n",
       "      <td>0.0</td>\n",
       "      <td>0.54</td>\n",
       "      <td>0.22</td>\n",
       "      <td>3</td>\n",
       "    </tr>\n",
       "    <tr>\n",
       "      <th>AATM_YEAST</th>\n",
       "      <td>0.42</td>\n",
       "      <td>0.44</td>\n",
       "      <td>0.48</td>\n",
       "      <td>0.54</td>\n",
       "      <td>0.5</td>\n",
       "      <td>0.0</td>\n",
       "      <td>0.48</td>\n",
       "      <td>0.22</td>\n",
       "      <td>1</td>\n",
       "    </tr>\n",
       "    <tr>\n",
       "      <th>...</th>\n",
       "      <td>...</td>\n",
       "      <td>...</td>\n",
       "      <td>...</td>\n",
       "      <td>...</td>\n",
       "      <td>...</td>\n",
       "      <td>...</td>\n",
       "      <td>...</td>\n",
       "      <td>...</td>\n",
       "      <td>...</td>\n",
       "    </tr>\n",
       "    <tr>\n",
       "      <th>YUR1_YEAST</th>\n",
       "      <td>0.81</td>\n",
       "      <td>0.62</td>\n",
       "      <td>0.43</td>\n",
       "      <td>0.17</td>\n",
       "      <td>0.5</td>\n",
       "      <td>0.0</td>\n",
       "      <td>0.53</td>\n",
       "      <td>0.22</td>\n",
       "      <td>2</td>\n",
       "    </tr>\n",
       "    <tr>\n",
       "      <th>ZIP1_YEAST</th>\n",
       "      <td>0.47</td>\n",
       "      <td>0.43</td>\n",
       "      <td>0.61</td>\n",
       "      <td>0.40</td>\n",
       "      <td>0.5</td>\n",
       "      <td>0.0</td>\n",
       "      <td>0.48</td>\n",
       "      <td>0.47</td>\n",
       "      <td>1</td>\n",
       "    </tr>\n",
       "    <tr>\n",
       "      <th>ZNRP_YEAST</th>\n",
       "      <td>0.67</td>\n",
       "      <td>0.57</td>\n",
       "      <td>0.36</td>\n",
       "      <td>0.19</td>\n",
       "      <td>0.5</td>\n",
       "      <td>0.0</td>\n",
       "      <td>0.56</td>\n",
       "      <td>0.22</td>\n",
       "      <td>4</td>\n",
       "    </tr>\n",
       "    <tr>\n",
       "      <th>ZUO1_YEAST</th>\n",
       "      <td>0.43</td>\n",
       "      <td>0.40</td>\n",
       "      <td>0.60</td>\n",
       "      <td>0.16</td>\n",
       "      <td>0.5</td>\n",
       "      <td>0.0</td>\n",
       "      <td>0.53</td>\n",
       "      <td>0.39</td>\n",
       "      <td>0</td>\n",
       "    </tr>\n",
       "    <tr>\n",
       "      <th>G6PD_YEAST</th>\n",
       "      <td>0.65</td>\n",
       "      <td>0.54</td>\n",
       "      <td>0.54</td>\n",
       "      <td>0.13</td>\n",
       "      <td>0.5</td>\n",
       "      <td>0.0</td>\n",
       "      <td>0.53</td>\n",
       "      <td>0.22</td>\n",
       "      <td>4</td>\n",
       "    </tr>\n",
       "  </tbody>\n",
       "</table>\n",
       "<p>1484 rows × 9 columns</p>\n",
       "</div>"
      ],
      "text/plain": [
       "             NUC   MIT   ME3   ME2  ME1  EXC   VAC   POX  segmen\n",
       "CYT                                                             \n",
       "ADT1_YEAST  0.58  0.61  0.47  0.13  0.5  0.0  0.48  0.22       4\n",
       "ADT2_YEAST  0.43  0.67  0.48  0.27  0.5  0.0  0.53  0.22       4\n",
       "ADT3_YEAST  0.64  0.62  0.49  0.15  0.5  0.0  0.53  0.22       4\n",
       "AAR2_YEAST  0.58  0.44  0.57  0.13  0.5  0.0  0.54  0.22       3\n",
       "AATM_YEAST  0.42  0.44  0.48  0.54  0.5  0.0  0.48  0.22       1\n",
       "...          ...   ...   ...   ...  ...  ...   ...   ...     ...\n",
       "YUR1_YEAST  0.81  0.62  0.43  0.17  0.5  0.0  0.53  0.22       2\n",
       "ZIP1_YEAST  0.47  0.43  0.61  0.40  0.5  0.0  0.48  0.47       1\n",
       "ZNRP_YEAST  0.67  0.57  0.36  0.19  0.5  0.0  0.56  0.22       4\n",
       "ZUO1_YEAST  0.43  0.40  0.60  0.16  0.5  0.0  0.53  0.39       0\n",
       "G6PD_YEAST  0.65  0.54  0.54  0.13  0.5  0.0  0.53  0.22       4\n",
       "\n",
       "[1484 rows x 9 columns]"
      ]
     },
     "execution_count": 100,
     "metadata": {},
     "output_type": "execute_result"
    }
   ],
   "source": [
    "df['segmen'] = y_kmins\n",
    "df"
   ]
  },
  {
   "cell_type": "code",
   "execution_count": 101,
   "metadata": {},
   "outputs": [
    {
     "data": {
      "text/plain": [
       "<AxesSubplot:>"
      ]
     },
     "execution_count": 101,
     "metadata": {},
     "output_type": "execute_result"
    },
    {
     "data": {
      "image/png": "[encoded data removed]",
      "text/plain": [
       "<Figure size 432x288 with 1 Axes>"
      ]
     },
     "metadata": {
      "needs_background": "light"
     },
     "output_type": "display_data"
    }
   ],
   "source": [
    "df['segmen'].value_counts().plot(kind = 'bar')"
   ]
  },
  {
   "cell_type": "code",
   "execution_count": 102,
   "metadata": {},
   "outputs": [
    {
     "data": {
      "text/html": [
       "<div>\n",
       "<style scoped>\n",
       "    .dataframe tbody tr th:only-of-type {\n",
       "        vertical-align: middle;\n",
       "    }\n",
       "\n",
       "    .dataframe tbody tr th {\n",
       "        vertical-align: top;\n",
       "    }\n",
       "\n",
       "    .dataframe thead th {\n",
       "        text-align: right;\n",
       "    }\n",
       "</style>\n",
       "<table border=\"1\" class=\"dataframe\">\n",
       "  <thead>\n",
       "    <tr style=\"text-align: right;\">\n",
       "      <th></th>\n",
       "      <th>NUC</th>\n",
       "      <th>MIT</th>\n",
       "      <th>ME3</th>\n",
       "      <th>ME2</th>\n",
       "      <th>ME1</th>\n",
       "      <th>EXC</th>\n",
       "      <th>VAC</th>\n",
       "      <th>POX</th>\n",
       "      <th>segmen</th>\n",
       "    </tr>\n",
       "    <tr>\n",
       "      <th>CYT</th>\n",
       "      <th></th>\n",
       "      <th></th>\n",
       "      <th></th>\n",
       "      <th></th>\n",
       "      <th></th>\n",
       "      <th></th>\n",
       "      <th></th>\n",
       "      <th></th>\n",
       "      <th></th>\n",
       "    </tr>\n",
       "  </thead>\n",
       "  <tbody>\n",
       "    <tr>\n",
       "      <th>ADT1_YEAST</th>\n",
       "      <td>0.58</td>\n",
       "      <td>0.61</td>\n",
       "      <td>0.47</td>\n",
       "      <td>0.13</td>\n",
       "      <td>0.5</td>\n",
       "      <td>0.0</td>\n",
       "      <td>0.48</td>\n",
       "      <td>0.22</td>\n",
       "      <td>4</td>\n",
       "    </tr>\n",
       "    <tr>\n",
       "      <th>ADT2_YEAST</th>\n",
       "      <td>0.43</td>\n",
       "      <td>0.67</td>\n",
       "      <td>0.48</td>\n",
       "      <td>0.27</td>\n",
       "      <td>0.5</td>\n",
       "      <td>0.0</td>\n",
       "      <td>0.53</td>\n",
       "      <td>0.22</td>\n",
       "      <td>4</td>\n",
       "    </tr>\n",
       "    <tr>\n",
       "      <th>ADT3_YEAST</th>\n",
       "      <td>0.64</td>\n",
       "      <td>0.62</td>\n",
       "      <td>0.49</td>\n",
       "      <td>0.15</td>\n",
       "      <td>0.5</td>\n",
       "      <td>0.0</td>\n",
       "      <td>0.53</td>\n",
       "      <td>0.22</td>\n",
       "      <td>4</td>\n",
       "    </tr>\n",
       "    <tr>\n",
       "      <th>AAR2_YEAST</th>\n",
       "      <td>0.58</td>\n",
       "      <td>0.44</td>\n",
       "      <td>0.57</td>\n",
       "      <td>0.13</td>\n",
       "      <td>0.5</td>\n",
       "      <td>0.0</td>\n",
       "      <td>0.54</td>\n",
       "      <td>0.22</td>\n",
       "      <td>3</td>\n",
       "    </tr>\n",
       "    <tr>\n",
       "      <th>AATM_YEAST</th>\n",
       "      <td>0.42</td>\n",
       "      <td>0.44</td>\n",
       "      <td>0.48</td>\n",
       "      <td>0.54</td>\n",
       "      <td>0.5</td>\n",
       "      <td>0.0</td>\n",
       "      <td>0.48</td>\n",
       "      <td>0.22</td>\n",
       "      <td>1</td>\n",
       "    </tr>\n",
       "    <tr>\n",
       "      <th>...</th>\n",
       "      <td>...</td>\n",
       "      <td>...</td>\n",
       "      <td>...</td>\n",
       "      <td>...</td>\n",
       "      <td>...</td>\n",
       "      <td>...</td>\n",
       "      <td>...</td>\n",
       "      <td>...</td>\n",
       "      <td>...</td>\n",
       "    </tr>\n",
       "    <tr>\n",
       "      <th>YUR1_YEAST</th>\n",
       "      <td>0.81</td>\n",
       "      <td>0.62</td>\n",
       "      <td>0.43</td>\n",
       "      <td>0.17</td>\n",
       "      <td>0.5</td>\n",
       "      <td>0.0</td>\n",
       "      <td>0.53</td>\n",
       "      <td>0.22</td>\n",
       "      <td>2</td>\n",
       "    </tr>\n",
       "    <tr>\n",
       "      <th>ZIP1_YEAST</th>\n",
       "      <td>0.47</td>\n",
       "      <td>0.43</td>\n",
       "      <td>0.61</td>\n",
       "      <td>0.40</td>\n",
       "      <td>0.5</td>\n",
       "      <td>0.0</td>\n",
       "      <td>0.48</td>\n",
       "      <td>0.47</td>\n",
       "      <td>1</td>\n",
       "    </tr>\n",
       "    <tr>\n",
       "      <th>ZNRP_YEAST</th>\n",
       "      <td>0.67</td>\n",
       "      <td>0.57</td>\n",
       "      <td>0.36</td>\n",
       "      <td>0.19</td>\n",
       "      <td>0.5</td>\n",
       "      <td>0.0</td>\n",
       "      <td>0.56</td>\n",
       "      <td>0.22</td>\n",
       "      <td>4</td>\n",
       "    </tr>\n",
       "    <tr>\n",
       "      <th>ZUO1_YEAST</th>\n",
       "      <td>0.43</td>\n",
       "      <td>0.40</td>\n",
       "      <td>0.60</td>\n",
       "      <td>0.16</td>\n",
       "      <td>0.5</td>\n",
       "      <td>0.0</td>\n",
       "      <td>0.53</td>\n",
       "      <td>0.39</td>\n",
       "      <td>0</td>\n",
       "    </tr>\n",
       "    <tr>\n",
       "      <th>G6PD_YEAST</th>\n",
       "      <td>0.65</td>\n",
       "      <td>0.54</td>\n",
       "      <td>0.54</td>\n",
       "      <td>0.13</td>\n",
       "      <td>0.5</td>\n",
       "      <td>0.0</td>\n",
       "      <td>0.53</td>\n",
       "      <td>0.22</td>\n",
       "      <td>4</td>\n",
       "    </tr>\n",
       "  </tbody>\n",
       "</table>\n",
       "<p>1484 rows × 9 columns</p>\n",
       "</div>"
      ],
      "text/plain": [
       "             NUC   MIT   ME3   ME2  ME1  EXC   VAC   POX  segmen\n",
       "CYT                                                             \n",
       "ADT1_YEAST  0.58  0.61  0.47  0.13  0.5  0.0  0.48  0.22       4\n",
       "ADT2_YEAST  0.43  0.67  0.48  0.27  0.5  0.0  0.53  0.22       4\n",
       "ADT3_YEAST  0.64  0.62  0.49  0.15  0.5  0.0  0.53  0.22       4\n",
       "AAR2_YEAST  0.58  0.44  0.57  0.13  0.5  0.0  0.54  0.22       3\n",
       "AATM_YEAST  0.42  0.44  0.48  0.54  0.5  0.0  0.48  0.22       1\n",
       "...          ...   ...   ...   ...  ...  ...   ...   ...     ...\n",
       "YUR1_YEAST  0.81  0.62  0.43  0.17  0.5  0.0  0.53  0.22       2\n",
       "ZIP1_YEAST  0.47  0.43  0.61  0.40  0.5  0.0  0.48  0.47       1\n",
       "ZNRP_YEAST  0.67  0.57  0.36  0.19  0.5  0.0  0.56  0.22       4\n",
       "ZUO1_YEAST  0.43  0.40  0.60  0.16  0.5  0.0  0.53  0.39       0\n",
       "G6PD_YEAST  0.65  0.54  0.54  0.13  0.5  0.0  0.53  0.22       4\n",
       "\n",
       "[1484 rows x 9 columns]"
      ]
     },
     "execution_count": 102,
     "metadata": {},
     "output_type": "execute_result"
    }
   ],
   "source": [
    "df"
   ]
  },
  {
   "cell_type": "code",
   "execution_count": 103,
   "metadata": {},
   "outputs": [],
   "source": [
    "df.to_csv (r'export_dataframe2.csv', index = False, header=True)"
   ]
  },
  {
   "cell_type": "code",
   "execution_count": 63,
   "metadata": {},
   "outputs": [],
   "source": []
  },
  {
   "cell_type": "code",
   "execution_count": null,
   "metadata": {},
   "outputs": [],
   "source": []
  }
 ],
 "metadata": {
  "kernelspec": {
   "display_name": "Python 3",
   "language": "python",
   "name": "python3"
  },
  "language_info": {
   "codemirror_mode": {
    "name": "ipython",
    "version": 3
   },
   "file_extension": ".py",
   "mimetype": "text/x-python",
   "name": "python",
   "nbconvert_exporter": "python",
   "pygments_lexer": "ipython3",
   "version": "3.8.5"
  }
 },
 "nbformat": 4,
 "nbformat_minor": 4
}
